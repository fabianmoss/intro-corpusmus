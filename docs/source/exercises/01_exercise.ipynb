{
 "cells": [
  {
   "cell_type": "markdown",
   "metadata": {},
   "source": [
    "# Group work I\n",
    "\n",
    "In the first exercise, you learn how to interact with `pandas` library that is very useful for deadling with tabular data.\n",
    "Moreover, you will have a first look at the data that we work with in the next session, the *Annotated Beethoven Corpus* (ABC).\n",
    "The ABC contains harmonic annotations for all string quartets by Ludwig van Beethoven. The corpus is described in\n",
    "\n",
    "* Neuwirth, M., Harasim, D., Moss, F. C.,  & Rohrmeier, M. (2018). The Annotated Beethoven Corpus (ABC): A Dataset of Harmonic Analyses of All Beethoven String Quartets. *Frontiers in Digital Humanities*. https://doi.org/10.3389/fdigh.2018.00016\n",
    "\n",
    "A study based on this corpus is\n",
    "\n",
    "* Moss, F. C., Harasim, D., Neuwirth, M., & Rohrmeier, M. (2019). Statistical characteristics of tonal harmony: A corpus study of Beethoven’s string quartets. *PLOS ONE*. https://doi.org/10.1371/journal.pone.0217242\n",
    "\n",
    "**Preparation**\n",
    "\n",
    "1. Select one member of your team who shares her/his screen (maybe someone with *some* programming experience). \n",
    "2. Do all the exercises in that person's notebook together.\n",
    "\n",
    "If you are not sure how to solve a task, Google is your friend. If you have any questions at any point, don't hesitate to ask me or Sebastian for help."
   ]
  },
  {
   "cell_type": "markdown",
   "metadata": {},
   "source": [
    "## Exercises\n",
    "\n",
    "First, import the `pandas` library in the cell below. It is customary to abbreviate it with `pd`. If you are not sure how to do this, have a look at the [\"10 minutes to pandas\"](https://pandas.pydata.org/pandas-docs/stable/user_guide/10min.html) tutorial or ask Google."
   ]
  },
  {
   "cell_type": "code",
   "execution_count": 1,
   "metadata": {},
   "outputs": [],
   "source": [
    "import pandas as pd"
   ]
  },
  {
   "cell_type": "markdown",
   "metadata": {},
   "source": [
    "You can check which version of `pandas` you are using by using the `.__version__` attribute of `pd`(two underscores on each side)."
   ]
  },
  {
   "cell_type": "code",
   "execution_count": null,
   "metadata": {},
   "outputs": [],
   "source": []
  },
  {
   "cell_type": "markdown",
   "metadata": {},
   "source": [
    "The best way to learn how `pandas` works is to use it! The ABC is stored at the following address:"
   ]
  },
  {
   "cell_type": "code",
   "execution_count": 2,
   "metadata": {},
   "outputs": [],
   "source": [
    "url = \"https://raw.githubusercontent.com/DCMLab/ABC/master/data/all_annotations.tsv\""
   ]
  },
  {
   "cell_type": "markdown",
   "metadata": {},
   "source": [
    "The most important object in `pandas` is a **DataFrame** which is basically just another word for a table.\n",
    "\n",
    "We can load the ABC from the address that is stored in the variable `url` by passing it to the `.read_table()` method. Assign it to a variable called `abc`. The code for doing this is `abc = pd.read_table(url)`."
   ]
  },
  {
   "cell_type": "code",
   "execution_count": 6,
   "metadata": {},
   "outputs": [],
   "source": [
    "abc = pd.read_csv(url, sep='\\t')"
   ]
  },
  {
   "cell_type": "code",
   "execution_count": 7,
   "metadata": {},
   "outputs": [
    {
     "data": {
      "text/html": [
       "<div>\n",
       "<style scoped>\n",
       "    .dataframe tbody tr th:only-of-type {\n",
       "        vertical-align: middle;\n",
       "    }\n",
       "\n",
       "    .dataframe tbody tr th {\n",
       "        vertical-align: top;\n",
       "    }\n",
       "\n",
       "    .dataframe thead th {\n",
       "        text-align: right;\n",
       "    }\n",
       "</style>\n",
       "<table border=\"1\" class=\"dataframe\">\n",
       "  <thead>\n",
       "    <tr style=\"text-align: right;\">\n",
       "      <th></th>\n",
       "      <th>chord</th>\n",
       "      <th>altchord</th>\n",
       "      <th>measure</th>\n",
       "      <th>beat</th>\n",
       "      <th>totbeat</th>\n",
       "      <th>timesig</th>\n",
       "      <th>op</th>\n",
       "      <th>no</th>\n",
       "      <th>mov</th>\n",
       "      <th>length</th>\n",
       "      <th>global_key</th>\n",
       "      <th>local_key</th>\n",
       "      <th>pedal</th>\n",
       "      <th>numeral</th>\n",
       "      <th>form</th>\n",
       "      <th>figbass</th>\n",
       "      <th>changes</th>\n",
       "      <th>relativeroot</th>\n",
       "      <th>phraseend</th>\n",
       "    </tr>\n",
       "  </thead>\n",
       "  <tbody>\n",
       "    <tr>\n",
       "      <th>28090</th>\n",
       "      <td>I</td>\n",
       "      <td>NaN</td>\n",
       "      <td>171</td>\n",
       "      <td>1.0</td>\n",
       "      <td>542.5</td>\n",
       "      <td>2/2</td>\n",
       "      <td>95</td>\n",
       "      <td>11</td>\n",
       "      <td>4</td>\n",
       "      <td>4.0</td>\n",
       "      <td>false</td>\n",
       "      <td>I</td>\n",
       "      <td>NaN</td>\n",
       "      <td>I</td>\n",
       "      <td>NaN</td>\n",
       "      <td>NaN</td>\n",
       "      <td>NaN</td>\n",
       "      <td>NaN</td>\n",
       "      <td>False</td>\n",
       "    </tr>\n",
       "    <tr>\n",
       "      <th>28091</th>\n",
       "      <td>V7</td>\n",
       "      <td>NaN</td>\n",
       "      <td>172</td>\n",
       "      <td>1.0</td>\n",
       "      <td>546.5</td>\n",
       "      <td>2/2</td>\n",
       "      <td>95</td>\n",
       "      <td>11</td>\n",
       "      <td>4</td>\n",
       "      <td>4.0</td>\n",
       "      <td>false</td>\n",
       "      <td>I</td>\n",
       "      <td>NaN</td>\n",
       "      <td>V</td>\n",
       "      <td>NaN</td>\n",
       "      <td>7.0</td>\n",
       "      <td>NaN</td>\n",
       "      <td>NaN</td>\n",
       "      <td>False</td>\n",
       "    </tr>\n",
       "    <tr>\n",
       "      <th>28092</th>\n",
       "      <td>I</td>\n",
       "      <td>NaN</td>\n",
       "      <td>173</td>\n",
       "      <td>1.0</td>\n",
       "      <td>550.5</td>\n",
       "      <td>2/2</td>\n",
       "      <td>95</td>\n",
       "      <td>11</td>\n",
       "      <td>4</td>\n",
       "      <td>4.0</td>\n",
       "      <td>false</td>\n",
       "      <td>I</td>\n",
       "      <td>NaN</td>\n",
       "      <td>I</td>\n",
       "      <td>NaN</td>\n",
       "      <td>NaN</td>\n",
       "      <td>NaN</td>\n",
       "      <td>NaN</td>\n",
       "      <td>False</td>\n",
       "    </tr>\n",
       "    <tr>\n",
       "      <th>28093</th>\n",
       "      <td>V</td>\n",
       "      <td>NaN</td>\n",
       "      <td>174</td>\n",
       "      <td>1.0</td>\n",
       "      <td>554.5</td>\n",
       "      <td>2/2</td>\n",
       "      <td>95</td>\n",
       "      <td>11</td>\n",
       "      <td>4</td>\n",
       "      <td>4.0</td>\n",
       "      <td>false</td>\n",
       "      <td>I</td>\n",
       "      <td>NaN</td>\n",
       "      <td>V</td>\n",
       "      <td>NaN</td>\n",
       "      <td>NaN</td>\n",
       "      <td>NaN</td>\n",
       "      <td>NaN</td>\n",
       "      <td>False</td>\n",
       "    </tr>\n",
       "    <tr>\n",
       "      <th>28094</th>\n",
       "      <td>I\\\\\\\\</td>\n",
       "      <td>NaN</td>\n",
       "      <td>175</td>\n",
       "      <td>1.0</td>\n",
       "      <td>558.5</td>\n",
       "      <td>2/2</td>\n",
       "      <td>95</td>\n",
       "      <td>11</td>\n",
       "      <td>4</td>\n",
       "      <td>4.0</td>\n",
       "      <td>false</td>\n",
       "      <td>I</td>\n",
       "      <td>NaN</td>\n",
       "      <td>I</td>\n",
       "      <td>NaN</td>\n",
       "      <td>NaN</td>\n",
       "      <td>NaN</td>\n",
       "      <td>NaN</td>\n",
       "      <td>True</td>\n",
       "    </tr>\n",
       "  </tbody>\n",
       "</table>\n",
       "</div>"
      ],
      "text/plain": [
       "       chord altchord  measure  beat  totbeat timesig  op  no  mov  length  \\\n",
       "28090      I      NaN      171   1.0    542.5     2/2  95  11    4     4.0   \n",
       "28091     V7      NaN      172   1.0    546.5     2/2  95  11    4     4.0   \n",
       "28092      I      NaN      173   1.0    550.5     2/2  95  11    4     4.0   \n",
       "28093      V      NaN      174   1.0    554.5     2/2  95  11    4     4.0   \n",
       "28094  I\\\\\\\\      NaN      175   1.0    558.5     2/2  95  11    4     4.0   \n",
       "\n",
       "      global_key local_key pedal numeral form  figbass changes relativeroot  \\\n",
       "28090      false         I   NaN       I  NaN      NaN     NaN          NaN   \n",
       "28091      false         I   NaN       V  NaN      7.0     NaN          NaN   \n",
       "28092      false         I   NaN       I  NaN      NaN     NaN          NaN   \n",
       "28093      false         I   NaN       V  NaN      NaN     NaN          NaN   \n",
       "28094      false         I   NaN       I  NaN      NaN     NaN          NaN   \n",
       "\n",
       "       phraseend  \n",
       "28090      False  \n",
       "28091      False  \n",
       "28092      False  \n",
       "28093      False  \n",
       "28094       True  "
      ]
     },
     "execution_count": 7,
     "metadata": {},
     "output_type": "execute_result"
    }
   ],
   "source": [
    "abc.tail()"
   ]
  },
  {
   "cell_type": "markdown",
   "metadata": {},
   "source": [
    "Call the variable `abc` in the next cell."
   ]
  },
  {
   "cell_type": "code",
   "execution_count": null,
   "metadata": {},
   "outputs": [],
   "source": []
  },
  {
   "cell_type": "markdown",
   "metadata": {},
   "source": [
    "As you can see, `pandas` displays the first and the last five rows, and a lot of columns of the table. A very handy way to know how large the table is, is to use the `.shape` attribute of the `abc` DataFrame. It returns a pair `(number_of_rows, number_of_columns)`. Use this attribute in the cell below and compare it to the numbers of rows and columns that are displayed directly below the DataFrame."
   ]
  },
  {
   "cell_type": "code",
   "execution_count": null,
   "metadata": {},
   "outputs": [],
   "source": []
  },
  {
   "cell_type": "markdown",
   "metadata": {},
   "source": [
    "Now, try to figure out what the following columns could mean and write it to the code (like the example for `chord`)."
   ]
  },
  {
   "cell_type": "code",
   "execution_count": null,
   "metadata": {},
   "outputs": [],
   "source": [
    "column_meanings = \"\"\"\n",
    "chord: 'A chord symbol'\n",
    "measure:\n",
    "beat:\n",
    "totbeat:\n",
    "timesig:\n",
    "op:\n",
    "no:\n",
    "mov:\n",
    "length:\n",
    "global_key:\n",
    "local_key:\n",
    "numeral:\n",
    "figbass:\n",
    "\"\"\""
   ]
  },
  {
   "cell_type": "markdown",
   "metadata": {},
   "source": [
    "We can look at individual columns of the DataFrame by **selecting** them. For example, if we had a DataFrame called `df` with a column named `temperature`, we could look at only this column by writing `df[\"temperature\"]`. In the cell below, select the `chord` column of the DataFrame `abc`."
   ]
  },
  {
   "cell_type": "code",
   "execution_count": null,
   "metadata": {},
   "outputs": [],
   "source": []
  },
  {
   "cell_type": "markdown",
   "metadata": {},
   "source": [
    "Again, we see only the first and last five entries."
   ]
  },
  {
   "cell_type": "markdown",
   "metadata": {},
   "source": [
    "We know now how many chords are annotated in this corpus and how we can select individual columns. But how many *different* chords are there? `pandas` has a very useful method for this task, called `.value_counts()`. If you select the `chord` column in the DataFrame `abc` and append the `.value_counts()` method to it, it will show you the number of times each chord appears in the corpus in descending order."
   ]
  },
  {
   "cell_type": "code",
   "execution_count": null,
   "metadata": {},
   "outputs": [],
   "source": []
  },
  {
   "cell_type": "markdown",
   "metadata": {},
   "source": [
    "What are the five most common chords? Can you interpret it?"
   ]
  },
  {
   "cell_type": "markdown",
   "metadata": {},
   "source": [
    "Now, in the big table that we have stored in the variable `abc` there are *all* chords in *all* of Beethoven's string quartets. What if we wanted to look only at a single of these quartets, for example the string quartet no. 11, op. 95 in F minor? The following code shows how we would do it:\n",
    "\n",
    "```\n",
    "abc[ abc[\"op\"] == 95 ]\n",
    "```\n",
    "\n",
    "This reads as \"Show me the `abc` where the `op` column of the `abc` is equal to 95 (note the double `==`). In the cell below, show only the rows of the table that belong to the string quartet no. 10, op. 74 in E$\\flat$ major."
   ]
  },
  {
   "cell_type": "code",
   "execution_count": null,
   "metadata": {},
   "outputs": [],
   "source": []
  },
  {
   "cell_type": "markdown",
   "metadata": {},
   "source": [
    "How could we now count all the chords in op. 74?"
   ]
  },
  {
   "cell_type": "code",
   "execution_count": null,
   "metadata": {},
   "outputs": [],
   "source": []
  },
  {
   "cell_type": "markdown",
   "metadata": {},
   "source": [
    "How many different chords are in op. 74? (Hint: You don't need to write code for that, the `.value_counts()` method already states it."
   ]
  },
  {
   "cell_type": "markdown",
   "metadata": {},
   "source": [
    "Above we have seen that the `global_key` contains the key of the entire piece, while `local_key` contains the keys to which a piece **modulates**. If we wanted to know which chords occur how often *either* in major *or* minor keys, we have to select them explicitly, similarly to how we selected an opus number. \n",
    "\n",
    "However, the DataFrame does not contain a `mode` column that would contain whether a chord occurs in a major or in a minor segment. But we can work around that! Let us first see, which local keys there are in all string quartets. This can be achieved by first selecting the `local_key` column and then calling the `.unique()` method on it. "
   ]
  },
  {
   "cell_type": "code",
   "execution_count": null,
   "metadata": {},
   "outputs": [],
   "source": []
  },
  {
   "cell_type": "markdown",
   "metadata": {},
   "source": [
    "Apparently, there is a great variety of keys in Beethoven's string quartes. If we only want to select the major keys, we have to select all keys that start with an uppercase letter, e.g. `'VI'` **or** that start with a flat ($\\flat$, here represented by the letter `b`) **and** have uppercase letters following, for example `'bIV'`. This is a quite complicated condition. For tasks like this, one can use so-called **regular expressions** (not necessary to know exactly what this means yet). The condition mentioned above would be expressed as follows:"
   ]
  },
  {
   "cell_type": "code",
   "execution_count": null,
   "metadata": {},
   "outputs": [],
   "source": [
    "major_condition = \"^b?[A-Z]\""
   ]
  },
  {
   "cell_type": "markdown",
   "metadata": {},
   "source": [
    "The `^b?` part means \"has the letter 'b' at the beginning but only once\", and the `[A-Z]` part means \"any uppercase letter\". Consequently, we can select all pieces in the major mode by"
   ]
  },
  {
   "cell_type": "code",
   "execution_count": null,
   "metadata": {},
   "outputs": [],
   "source": [
    "abc[ abc[\"local_key\"].str.match(major_condition) ]"
   ]
  },
  {
   "cell_type": "markdown",
   "metadata": {},
   "source": [
    "Take the above expression and count the chords in all major keys in the cell below."
   ]
  },
  {
   "cell_type": "code",
   "execution_count": null,
   "metadata": {},
   "outputs": [],
   "source": []
  },
  {
   "cell_type": "markdown",
   "metadata": {},
   "source": [
    "How would we have to change `major_condition` so that it selects only minor keys? Save the condition for minor keys in a variable `minor_condition` in the cell below."
   ]
  },
  {
   "cell_type": "code",
   "execution_count": null,
   "metadata": {},
   "outputs": [],
   "source": []
  },
  {
   "cell_type": "markdown",
   "metadata": {},
   "source": [
    "Now, we are in the position to select all minor-key segments from the string quartets and count the chords!"
   ]
  },
  {
   "cell_type": "code",
   "execution_count": null,
   "metadata": {},
   "outputs": [],
   "source": []
  },
  {
   "cell_type": "markdown",
   "metadata": {},
   "source": [
    "Compare the first couple of chords in major and minor. Can you interpret it?"
   ]
  },
  {
   "cell_type": "markdown",
   "metadata": {},
   "source": [
    "**Congratulations! You completely solved the first exercise!**"
   ]
  }
 ],
 "metadata": {
  "kernelspec": {
   "display_name": "Python 3",
   "language": "python",
   "name": "python3"
  },
  "language_info": {
   "codemirror_mode": {
    "name": "ipython",
    "version": 3
   },
   "file_extension": ".py",
   "mimetype": "text/x-python",
   "name": "python",
   "nbconvert_exporter": "python",
   "pygments_lexer": "ipython3",
   "version": "3.8.3"
  }
 },
 "nbformat": 4,
 "nbformat_minor": 4
}
