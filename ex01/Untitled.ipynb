{
 "cells": [
  {
   "cell_type": "markdown",
   "metadata": {},
   "source": [
    "# Exercise 1"
   ]
  },
  {
   "cell_type": "code",
   "execution_count": 19,
   "metadata": {},
   "outputs": [],
   "source": [
    "# Please enter a nice message\n",
    "\n",
    "msg = \"Hi there!\""
   ]
  },
  {
   "cell_type": "markdown",
   "metadata": {},
   "source": [
    "## Submit exercise\n",
    "\n",
    "**Warning!** Only execute the following cell when you have completed your exercise."
   ]
  },
  {
   "cell_type": "code",
   "execution_count": 25,
   "metadata": {},
   "outputs": [
    {
     "name": "stdin",
     "output_type": "stream",
     "text": [
      "GitHub username:  test\n",
      "GitHub password:  test123\n"
     ]
    },
    {
     "name": "stderr",
     "output_type": "stream",
     "text": [
      "Der Befehl \"test123\" ist entweder falsch geschrieben oder\n",
      "konnte nicht gefunden werden.\n"
     ]
    }
   ],
   "source": [
    "! {input(\"GitHub username: \")}\n",
    "! {input(\"GitHub password: \")}"
   ]
  },
  {
   "cell_type": "code",
   "execution_count": 10,
   "metadata": {},
   "outputs": [],
   "source": [
    "# !git checkout -b exercises\n",
    "# !git checkout -b exercises/test\n",
    "# !git add .\n",
    "# !git commit -m f\"ex01\"\n",
    "# !git push --set-upstream origin exercises/"
   ]
  },
  {
   "cell_type": "code",
   "execution_count": 11,
   "metadata": {},
   "outputs": [
    {
     "name": "stdout",
     "output_type": "stream",
     "text": [
      "usage: git [--version] [--help] [-C <path>] [-c <name>=<value>]\n",
      "           [--exec-path[=<path>]] [--html-path] [--man-path] [--info-path]\n",
      "           [-p | --paginate | --no-pager] [--no-replace-objects] [--bare]\n",
      "           [--git-dir=<path>] [--work-tree=<path>] [--namespace=<name>]\n",
      "           <command> [<args>]\n",
      "\n",
      "These are common Git commands used in various situations:\n",
      "\n",
      "start a working area (see also: git help tutorial)\n",
      "   clone      Clone a repository into a new directory\n",
      "   init       Create an empty Git repository or reinitialize an existing one\n",
      "\n",
      "work on the current change (see also: git help everyday)\n",
      "   add        Add file contents to the index\n",
      "   mv         Move or rename a file, a directory, or a symlink\n",
      "   reset      Reset current HEAD to the specified state\n",
      "   rm         Remove files from the working tree and from the index\n",
      "\n",
      "examine the history and state (see also: git help revisions)\n",
      "   bisect     Use binary search to find the commit that introduced a bug\n",
      "   grep       Print lines matching a pattern\n",
      "   log        Show commit logs\n",
      "   show       Show various types of objects\n",
      "   status     Show the working tree status\n",
      "\n",
      "grow, mark and tweak your common history\n",
      "   branch     List, create, or delete branches\n",
      "   checkout   Switch branches or restore working tree files\n",
      "   commit     Record changes to the repository\n",
      "   diff       Show changes between commits, commit and working tree, etc\n",
      "   merge      Join two or more development histories together\n",
      "   rebase     Reapply commits on top of another base tip\n",
      "   tag        Create, list, delete or verify a tag object signed with GPG\n",
      "\n",
      "collaborate (see also: git help workflows)\n",
      "   fetch      Download objects and refs from another repository\n",
      "   pull       Fetch from and integrate with another repository or a local branch\n",
      "   push       Update remote refs along with associated objects\n",
      "\n",
      "'git help -a' and 'git help -g' list available subcommands and some\n",
      "concept guides. See 'git help <command>' or 'git help <concept>'\n",
      "to read about a specific subcommand or concept.\n"
     ]
    }
   ],
   "source": [
    "!git --help"
   ]
  },
  {
   "cell_type": "code",
   "execution_count": null,
   "metadata": {},
   "outputs": [],
   "source": []
  }
 ],
 "metadata": {
  "kernelspec": {
   "display_name": "Python 3",
   "language": "python",
   "name": "python3"
  },
  "language_info": {
   "codemirror_mode": {
    "name": "ipython",
    "version": 3
   },
   "file_extension": ".py",
   "mimetype": "text/x-python",
   "name": "python",
   "nbconvert_exporter": "python",
   "pygments_lexer": "ipython3",
   "version": "3.8.3"
  }
 },
 "nbformat": 4,
 "nbformat_minor": 4
}
